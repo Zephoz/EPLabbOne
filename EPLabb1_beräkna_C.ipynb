{
 "cells": [
  {
   "cell_type": "code",
   "execution_count": 1,
   "metadata": {},
   "outputs": [],
   "source": [
    "import numpy as np\n",
    "import matplotlib.pyplot as plt\n",
    "plt.rcParams[\"text.usetex\"] = True\n",
    "plt.style.use(\"ggplot\")"
   ]
  },
  {
   "cell_type": "code",
   "execution_count": 2,
   "metadata": {},
   "outputs": [],
   "source": [
    "def calculateConstant(diameter, length, timeToFill, height, D=997, g=9.81, v=1, filledVolume=10):\n",
    "    # diameter in mm\n",
    "    # length in cm\n",
    "    # timeToFill in seconds\n",
    "    # height in cm\n",
    "    # D - density of water\n",
    "    # g - gravitational acceleration\n",
    "    # v - viscosity = 1 at 20.2 celsius\n",
    "    # filledVolume in ml\n",
    "    if height == None:\n",
    "        height = 30\n",
    "    return (((filledVolume*10**-3)/(timeToFill))*(length*10**-2)*v)/((diameter*10**-3)**4*(height*10**-2)*D*g)"
   ]
  },
  {
   "cell_type": "code",
   "execution_count": 3,
   "metadata": {},
   "outputs": [
    {
     "name": "stdout",
     "output_type": "stream",
     "text": [
      "0.04433739885000524 792.3128029372824 17870.078612813995\n"
     ]
    }
   ],
   "source": [
    "listOfCs = [0 for i in range(9)]\n",
    "listOfDiameters = [1.75, 1.54, 1.37, 1.07, 0.88, 1.75, 1.75, 1.75, 1.75]\n",
    "listOfLengths = [31.7, 27.7, 24.7, 18.3, 13.9, 31.7, 31.7, 31.7, 31.7]\n",
    "listOfTimes = [6.84, 9.67, 12.48, 25.11, 44.28, 12.62, 9.66, 7.74, 6.90]\n",
    "listOfHeights = [None, None, None, None, None, 15, 20, 25, 30]\n",
    "\n",
    "for i in range(len(listOfCs.copy())):\n",
    "    listOfCs[i] = calculateConstant(listOfDiameters[i], listOfLengths[i], listOfTimes[i], listOfHeights[i])\n",
    "listOfCs = np.array(listOfCs)\n",
    "# Calculate the standard deviation\n",
    "stdDeviation = listOfCs.std()\n",
    "meanC = listOfCs.mean()\n",
    "# Calculate how large the deviation is in percent\n",
    "print(stdDeviation/meanC, stdDeviation, meanC)"
   ]
  }
 ],
 "metadata": {
  "interpreter": {
   "hash": "556959fb7db975e248aedaf732c60d5d7b3f116e2c2919564f5b17c71404ec87"
  },
  "kernelspec": {
   "display_name": "Python 3.9.9 64-bit (windows store)",
   "language": "python",
   "name": "python3"
  },
  "language_info": {
   "codemirror_mode": {
    "name": "ipython",
    "version": 3
   },
   "file_extension": ".py",
   "mimetype": "text/x-python",
   "name": "python",
   "nbconvert_exporter": "python",
   "pygments_lexer": "ipython3",
   "version": "3.9.9"
  },
  "orig_nbformat": 4
 },
 "nbformat": 4,
 "nbformat_minor": 2
}
